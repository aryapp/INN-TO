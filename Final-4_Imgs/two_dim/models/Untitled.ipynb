{
 "cells": [
  {
   "cell_type": "code",
   "execution_count": 15,
   "id": "9677fffa-d634-4a9e-8e1b-a298c57166ca",
   "metadata": {},
   "outputs": [],
   "source": [
    "import torch\n",
    "import torch.nn as nn\n",
    "x =torch.rand(16,1,64,64)"
   ]
  },
  {
   "cell_type": "code",
   "execution_count": 16,
   "id": "549cc182-e76a-4ba8-bcb3-0ecf7e081ad2",
   "metadata": {},
   "outputs": [
    {
     "data": {
      "text/plain": [
       "torch.Size([16, 1, 64, 64])"
      ]
     },
     "execution_count": 16,
     "metadata": {},
     "output_type": "execute_result"
    }
   ],
   "source": [
    "x.shape"
   ]
  },
  {
   "cell_type": "code",
   "execution_count": 17,
   "id": "2ea4f7d0-c223-4e91-8616-89c02cba92c9",
   "metadata": {},
   "outputs": [],
   "source": [
    "x1, x2 = torch.split(x, [0, 1], dim=1)"
   ]
  },
  {
   "cell_type": "code",
   "execution_count": 18,
   "id": "7702cbfb-5d40-4878-8b87-e98ebc65c924",
   "metadata": {},
   "outputs": [
    {
     "data": {
      "text/plain": [
       "torch.Size([16, 0, 64, 64])"
      ]
     },
     "execution_count": 18,
     "metadata": {},
     "output_type": "execute_result"
    }
   ],
   "source": [
    "x1.shape"
   ]
  },
  {
   "cell_type": "code",
   "execution_count": 19,
   "id": "7dbd694d-ce34-4b67-96af-60eb68f6e839",
   "metadata": {},
   "outputs": [
    {
     "data": {
      "text/plain": [
       "torch.Size([16, 1, 64, 64])"
      ]
     },
     "execution_count": 19,
     "metadata": {},
     "output_type": "execute_result"
    }
   ],
   "source": [
    "x2.shape"
   ]
  },
  {
   "cell_type": "code",
   "execution_count": 20,
   "id": "d7076ea5-1ada-4358-a6ea-3c226dd6265a",
   "metadata": {},
   "outputs": [
    {
     "data": {
      "text/plain": [
       "tensor([], size=(16, 0, 64, 64))"
      ]
     },
     "execution_count": 20,
     "metadata": {},
     "output_type": "execute_result"
    }
   ],
   "source": [
    "x1"
   ]
  },
  {
   "cell_type": "code",
   "execution_count": 21,
   "id": "bca67bdb-3cac-4599-bd8d-1a3a24291fe3",
   "metadata": {},
   "outputs": [
    {
     "data": {
      "text/plain": [
       "tensor([[[[7.3953e-01, 8.1835e-01, 7.6891e-01,  ..., 8.0221e-01,\n",
       "           2.0160e-01, 9.0692e-01],\n",
       "          [2.4276e-01, 5.2198e-01, 7.8718e-01,  ..., 8.4212e-01,\n",
       "           1.2211e-01, 8.7436e-02],\n",
       "          [3.0904e-02, 1.1786e-01, 2.7659e-01,  ..., 5.3051e-01,\n",
       "           6.9987e-01, 1.3580e-01],\n",
       "          ...,\n",
       "          [8.2543e-01, 7.3429e-01, 4.9112e-01,  ..., 9.5380e-01,\n",
       "           1.2902e-02, 9.1685e-01],\n",
       "          [7.7283e-02, 8.5257e-01, 3.6195e-01,  ..., 9.4325e-01,\n",
       "           6.3481e-01, 4.0082e-01],\n",
       "          [9.1142e-01, 3.5236e-01, 6.0638e-01,  ..., 4.6093e-01,\n",
       "           7.1428e-02, 7.1741e-01]]],\n",
       "\n",
       "\n",
       "        [[[8.4267e-02, 1.0508e-01, 6.0407e-01,  ..., 1.7569e-01,\n",
       "           5.8983e-01, 4.9797e-01],\n",
       "          [8.1834e-01, 6.3553e-01, 7.6701e-01,  ..., 6.6803e-01,\n",
       "           8.7036e-01, 9.0806e-01],\n",
       "          [8.6501e-01, 9.6322e-01, 7.7360e-01,  ..., 1.4842e-01,\n",
       "           6.9225e-01, 1.6500e-01],\n",
       "          ...,\n",
       "          [4.0561e-01, 1.1081e-01, 7.9198e-01,  ..., 4.9647e-01,\n",
       "           9.2754e-01, 7.3093e-01],\n",
       "          [4.1988e-02, 5.6413e-01, 2.0200e-01,  ..., 8.3444e-01,\n",
       "           7.6795e-01, 3.1512e-01],\n",
       "          [8.8372e-01, 7.4090e-01, 7.9576e-01,  ..., 8.0815e-02,\n",
       "           6.5543e-01, 6.2107e-01]]],\n",
       "\n",
       "\n",
       "        [[[5.7702e-01, 8.0026e-01, 4.8107e-01,  ..., 1.6720e-01,\n",
       "           6.8118e-01, 3.3036e-01],\n",
       "          [8.2132e-01, 6.9751e-02, 7.8836e-02,  ..., 7.2056e-01,\n",
       "           5.7247e-01, 5.4984e-01],\n",
       "          [1.8386e-01, 5.3340e-01, 9.0914e-01,  ..., 1.6376e-01,\n",
       "           2.4050e-01, 1.4244e-01],\n",
       "          ...,\n",
       "          [3.5120e-01, 1.7553e-01, 9.3922e-01,  ..., 5.2565e-02,\n",
       "           7.8838e-02, 7.3299e-01],\n",
       "          [6.6113e-01, 5.8992e-02, 2.4573e-01,  ..., 9.1630e-01,\n",
       "           9.8225e-01, 7.0035e-02],\n",
       "          [8.3204e-01, 5.0532e-01, 9.1049e-01,  ..., 7.8724e-01,\n",
       "           9.3504e-01, 8.4532e-01]]],\n",
       "\n",
       "\n",
       "        ...,\n",
       "\n",
       "\n",
       "        [[[1.2818e-01, 4.9252e-01, 2.0454e-01,  ..., 9.4834e-01,\n",
       "           9.0151e-01, 1.1082e-01],\n",
       "          [4.2425e-01, 4.2105e-01, 5.7445e-02,  ..., 3.7726e-01,\n",
       "           7.7073e-01, 1.1161e-01],\n",
       "          [6.1165e-01, 3.2662e-01, 3.5391e-01,  ..., 9.2558e-02,\n",
       "           8.5469e-01, 9.2006e-01],\n",
       "          ...,\n",
       "          [1.1774e-01, 3.4152e-02, 1.6052e-01,  ..., 7.7333e-01,\n",
       "           9.7233e-01, 9.3578e-01],\n",
       "          [4.0497e-02, 5.9684e-01, 6.0672e-02,  ..., 6.8813e-01,\n",
       "           4.0059e-02, 4.4159e-01],\n",
       "          [3.6407e-01, 5.0193e-01, 3.4456e-01,  ..., 5.1702e-01,\n",
       "           1.4725e-01, 3.7988e-01]]],\n",
       "\n",
       "\n",
       "        [[[2.4396e-01, 1.4076e-01, 1.0419e-01,  ..., 5.1633e-01,\n",
       "           2.9345e-01, 8.0082e-01],\n",
       "          [4.7469e-01, 9.2456e-01, 8.4408e-01,  ..., 8.4878e-01,\n",
       "           6.4050e-02, 9.3017e-01],\n",
       "          [7.9919e-01, 9.0716e-01, 1.4760e-01,  ..., 4.8149e-04,\n",
       "           4.0789e-01, 5.7881e-03],\n",
       "          ...,\n",
       "          [2.9902e-01, 6.7012e-01, 4.6477e-01,  ..., 3.6286e-01,\n",
       "           5.6039e-01, 3.0642e-01],\n",
       "          [9.0995e-01, 9.6071e-01, 1.9981e-01,  ..., 8.8314e-01,\n",
       "           4.9122e-01, 6.7400e-01],\n",
       "          [3.4634e-01, 7.1252e-01, 1.3311e-02,  ..., 9.4051e-01,\n",
       "           8.5321e-01, 9.9412e-01]]],\n",
       "\n",
       "\n",
       "        [[[2.3994e-01, 7.0184e-02, 1.3177e-01,  ..., 6.1198e-01,\n",
       "           7.7311e-01, 5.0120e-01],\n",
       "          [1.4130e-01, 7.9280e-01, 9.9420e-01,  ..., 6.4946e-01,\n",
       "           4.0182e-01, 1.7463e-01],\n",
       "          [5.5825e-01, 3.5206e-01, 3.5719e-02,  ..., 8.5057e-01,\n",
       "           1.0954e-01, 1.4307e-01],\n",
       "          ...,\n",
       "          [5.6648e-01, 1.4861e-01, 5.2406e-01,  ..., 7.3293e-01,\n",
       "           5.5138e-01, 6.3933e-01],\n",
       "          [4.1032e-01, 3.1572e-01, 1.7707e-01,  ..., 7.7574e-01,\n",
       "           7.7357e-02, 3.3232e-01],\n",
       "          [5.9581e-01, 8.4274e-01, 3.9934e-01,  ..., 1.1877e-01,\n",
       "           1.7560e-01, 3.4422e-01]]]])"
      ]
     },
     "execution_count": 21,
     "metadata": {},
     "output_type": "execute_result"
    }
   ],
   "source": [
    "x2"
   ]
  },
  {
   "cell_type": "code",
   "execution_count": null,
   "id": "535c429d-66e5-40b6-a97a-a0912eb053ab",
   "metadata": {},
   "outputs": [],
   "source": []
  },
  {
   "cell_type": "code",
   "execution_count": 22,
   "id": "1695a014-b08f-4c6c-830f-01ece69093cf",
   "metadata": {},
   "outputs": [],
   "source": [
    "input_dimension1=4\n",
    "hidden_layer_channel = 64\n",
    "\n",
    "cond_size1=16\n",
    "condition_dimension = cond_size1"
   ]
  },
  {
   "cell_type": "code",
   "execution_count": 23,
   "id": "8df11e9d-0811-4abc-8dee-6c7daa98a0cd",
   "metadata": {},
   "outputs": [
    {
     "data": {
      "text/plain": [
       "2"
      ]
     },
     "execution_count": 23,
     "metadata": {},
     "output_type": "execute_result"
    }
   ],
   "source": [
    "input_dimension1 // 2"
   ]
  },
  {
   "cell_type": "code",
   "execution_count": 41,
   "id": "44ed6dbb-abd4-4c09-824f-6f5d8517eb89",
   "metadata": {},
   "outputs": [],
   "source": [
    "x = torch.rand(16,4,64,64)"
   ]
  },
  {
   "cell_type": "code",
   "execution_count": 42,
   "id": "1c346e35-eb1e-4096-9b4b-9e6ebdfcdd36",
   "metadata": {},
   "outputs": [],
   "source": [
    "channel_part_1 = input_dimension1 // 2\n",
    "channel_part_2 = input_dimension1 - input_dimension1 // 2"
   ]
  },
  {
   "cell_type": "code",
   "execution_count": 43,
   "id": "5a368af9-18c0-4009-ada4-df8f6eae19ff",
   "metadata": {},
   "outputs": [],
   "source": [
    "x1 = x.narrow(1, 0, channel_part_1)\n",
    "x2 = x.narrow(1, channel_part_1, channel_part_2)"
   ]
  },
  {
   "cell_type": "code",
   "execution_count": 44,
   "id": "4606a825-8685-4c8b-bfce-ae088e176f48",
   "metadata": {},
   "outputs": [
    {
     "name": "stdout",
     "output_type": "stream",
     "text": [
      "x.shape:torch.Size([16, 4, 64, 64]), x1.shape:torch.Size([16, 2, 64, 64]), x2.shape:torch.Size([16, 2, 64, 64])\n"
     ]
    }
   ],
   "source": [
    "print(f\"x.shape:{x.shape}, x1.shape:{x1.shape}, x2.shape:{x2.shape}\") "
   ]
  },
  {
   "cell_type": "code",
   "execution_count": null,
   "id": "05d83407-51ef-4491-9213-d2d840a3a020",
   "metadata": {},
   "outputs": [],
   "source": []
  },
  {
   "cell_type": "code",
   "execution_count": 45,
   "id": "fffe48a3-e797-46ab-873a-edfdc6c2425d",
   "metadata": {},
   "outputs": [],
   "source": [
    "def convolution_network(Hidden_layer):\n",
    "    return lambda input_channel, output_channel: nn.Sequential(\n",
    "        nn.Conv2d(input_channel, Hidden_layer, 3, padding=1),\n",
    "        nn.ReLU(),\n",
    "        nn.Conv2d(Hidden_layer, output_channel, 3, padding=1))"
   ]
  },
  {
   "cell_type": "code",
   "execution_count": 46,
   "id": "7b75eba4-e776-43b1-a5d1-b1bfe3d4c59e",
   "metadata": {},
   "outputs": [],
   "source": [
    "network_s_t = convolution_network(hidden_layer_channel)\n",
    "s_t_network = network_s_t"
   ]
  },
  {
   "cell_type": "code",
   "execution_count": 47,
   "id": "572a6478-8de9-4e24-9278-f51be5f0c3e1",
   "metadata": {},
   "outputs": [],
   "source": [
    "s_net = s_t_network(channel_part_1 + condition_dimension, channel_part_1)\n",
    "t_net = s_t_network(channel_part_2 + condition_dimension, channel_part_2)"
   ]
  },
  {
   "cell_type": "code",
   "execution_count": 48,
   "id": "32200f99-8def-491b-9bbb-38d0e4476919",
   "metadata": {},
   "outputs": [
    {
     "data": {
      "text/plain": [
       "Sequential(\n",
       "  (0): Conv2d(18, 64, kernel_size=(3, 3), stride=(1, 1), padding=(1, 1))\n",
       "  (1): ReLU()\n",
       "  (2): Conv2d(64, 2, kernel_size=(3, 3), stride=(1, 1), padding=(1, 1))\n",
       ")"
      ]
     },
     "execution_count": 48,
     "metadata": {},
     "output_type": "execute_result"
    }
   ],
   "source": [
    "s_net"
   ]
  },
  {
   "cell_type": "code",
   "execution_count": 49,
   "id": "e51cb63f-9790-438f-a3fc-7cae26a904c9",
   "metadata": {},
   "outputs": [
    {
     "ename": "RuntimeError",
     "evalue": "Given groups=1, weight of size [64, 18, 3, 3], expected input[16, 2, 64, 64] to have 18 channels, but got 2 channels instead",
     "output_type": "error",
     "traceback": [
      "\u001b[1;31m---------------------------------------------------------------------------\u001b[0m",
      "\u001b[1;31mRuntimeError\u001b[0m                              Traceback (most recent call last)",
      "\u001b[1;32m~\\AppData\\Local\\Temp/ipykernel_4260/1956794748.py\u001b[0m in \u001b[0;36m<module>\u001b[1;34m\u001b[0m\n\u001b[1;32m----> 1\u001b[1;33m \u001b[0ms\u001b[0m \u001b[1;33m=\u001b[0m \u001b[0ms_net\u001b[0m\u001b[1;33m(\u001b[0m\u001b[0mx2\u001b[0m\u001b[1;33m)\u001b[0m\u001b[1;33m\u001b[0m\u001b[1;33m\u001b[0m\u001b[0m\n\u001b[0m",
      "\u001b[1;32m~\\.conda\\envs\\pytorch_venv\\lib\\site-packages\\torch\\nn\\modules\\module.py\u001b[0m in \u001b[0;36m_call_impl\u001b[1;34m(self, *input, **kwargs)\u001b[0m\n\u001b[0;32m   1049\u001b[0m         if not (self._backward_hooks or self._forward_hooks or self._forward_pre_hooks or _global_backward_hooks\n\u001b[0;32m   1050\u001b[0m                 or _global_forward_hooks or _global_forward_pre_hooks):\n\u001b[1;32m-> 1051\u001b[1;33m             \u001b[1;32mreturn\u001b[0m \u001b[0mforward_call\u001b[0m\u001b[1;33m(\u001b[0m\u001b[1;33m*\u001b[0m\u001b[0minput\u001b[0m\u001b[1;33m,\u001b[0m \u001b[1;33m**\u001b[0m\u001b[0mkwargs\u001b[0m\u001b[1;33m)\u001b[0m\u001b[1;33m\u001b[0m\u001b[1;33m\u001b[0m\u001b[0m\n\u001b[0m\u001b[0;32m   1052\u001b[0m         \u001b[1;31m# Do not call functions when jit is used\u001b[0m\u001b[1;33m\u001b[0m\u001b[1;33m\u001b[0m\u001b[1;33m\u001b[0m\u001b[0m\n\u001b[0;32m   1053\u001b[0m         \u001b[0mfull_backward_hooks\u001b[0m\u001b[1;33m,\u001b[0m \u001b[0mnon_full_backward_hooks\u001b[0m \u001b[1;33m=\u001b[0m \u001b[1;33m[\u001b[0m\u001b[1;33m]\u001b[0m\u001b[1;33m,\u001b[0m \u001b[1;33m[\u001b[0m\u001b[1;33m]\u001b[0m\u001b[1;33m\u001b[0m\u001b[1;33m\u001b[0m\u001b[0m\n",
      "\u001b[1;32m~\\.conda\\envs\\pytorch_venv\\lib\\site-packages\\torch\\nn\\modules\\container.py\u001b[0m in \u001b[0;36mforward\u001b[1;34m(self, input)\u001b[0m\n\u001b[0;32m    137\u001b[0m     \u001b[1;32mdef\u001b[0m \u001b[0mforward\u001b[0m\u001b[1;33m(\u001b[0m\u001b[0mself\u001b[0m\u001b[1;33m,\u001b[0m \u001b[0minput\u001b[0m\u001b[1;33m)\u001b[0m\u001b[1;33m:\u001b[0m\u001b[1;33m\u001b[0m\u001b[1;33m\u001b[0m\u001b[0m\n\u001b[0;32m    138\u001b[0m         \u001b[1;32mfor\u001b[0m \u001b[0mmodule\u001b[0m \u001b[1;32min\u001b[0m \u001b[0mself\u001b[0m\u001b[1;33m:\u001b[0m\u001b[1;33m\u001b[0m\u001b[1;33m\u001b[0m\u001b[0m\n\u001b[1;32m--> 139\u001b[1;33m             \u001b[0minput\u001b[0m \u001b[1;33m=\u001b[0m \u001b[0mmodule\u001b[0m\u001b[1;33m(\u001b[0m\u001b[0minput\u001b[0m\u001b[1;33m)\u001b[0m\u001b[1;33m\u001b[0m\u001b[1;33m\u001b[0m\u001b[0m\n\u001b[0m\u001b[0;32m    140\u001b[0m         \u001b[1;32mreturn\u001b[0m \u001b[0minput\u001b[0m\u001b[1;33m\u001b[0m\u001b[1;33m\u001b[0m\u001b[0m\n\u001b[0;32m    141\u001b[0m \u001b[1;33m\u001b[0m\u001b[0m\n",
      "\u001b[1;32m~\\.conda\\envs\\pytorch_venv\\lib\\site-packages\\torch\\nn\\modules\\module.py\u001b[0m in \u001b[0;36m_call_impl\u001b[1;34m(self, *input, **kwargs)\u001b[0m\n\u001b[0;32m   1049\u001b[0m         if not (self._backward_hooks or self._forward_hooks or self._forward_pre_hooks or _global_backward_hooks\n\u001b[0;32m   1050\u001b[0m                 or _global_forward_hooks or _global_forward_pre_hooks):\n\u001b[1;32m-> 1051\u001b[1;33m             \u001b[1;32mreturn\u001b[0m \u001b[0mforward_call\u001b[0m\u001b[1;33m(\u001b[0m\u001b[1;33m*\u001b[0m\u001b[0minput\u001b[0m\u001b[1;33m,\u001b[0m \u001b[1;33m**\u001b[0m\u001b[0mkwargs\u001b[0m\u001b[1;33m)\u001b[0m\u001b[1;33m\u001b[0m\u001b[1;33m\u001b[0m\u001b[0m\n\u001b[0m\u001b[0;32m   1052\u001b[0m         \u001b[1;31m# Do not call functions when jit is used\u001b[0m\u001b[1;33m\u001b[0m\u001b[1;33m\u001b[0m\u001b[1;33m\u001b[0m\u001b[0m\n\u001b[0;32m   1053\u001b[0m         \u001b[0mfull_backward_hooks\u001b[0m\u001b[1;33m,\u001b[0m \u001b[0mnon_full_backward_hooks\u001b[0m \u001b[1;33m=\u001b[0m \u001b[1;33m[\u001b[0m\u001b[1;33m]\u001b[0m\u001b[1;33m,\u001b[0m \u001b[1;33m[\u001b[0m\u001b[1;33m]\u001b[0m\u001b[1;33m\u001b[0m\u001b[1;33m\u001b[0m\u001b[0m\n",
      "\u001b[1;32m~\\.conda\\envs\\pytorch_venv\\lib\\site-packages\\torch\\nn\\modules\\conv.py\u001b[0m in \u001b[0;36mforward\u001b[1;34m(self, input)\u001b[0m\n\u001b[0;32m    441\u001b[0m \u001b[1;33m\u001b[0m\u001b[0m\n\u001b[0;32m    442\u001b[0m     \u001b[1;32mdef\u001b[0m \u001b[0mforward\u001b[0m\u001b[1;33m(\u001b[0m\u001b[0mself\u001b[0m\u001b[1;33m,\u001b[0m \u001b[0minput\u001b[0m\u001b[1;33m:\u001b[0m \u001b[0mTensor\u001b[0m\u001b[1;33m)\u001b[0m \u001b[1;33m->\u001b[0m \u001b[0mTensor\u001b[0m\u001b[1;33m:\u001b[0m\u001b[1;33m\u001b[0m\u001b[1;33m\u001b[0m\u001b[0m\n\u001b[1;32m--> 443\u001b[1;33m         \u001b[1;32mreturn\u001b[0m \u001b[0mself\u001b[0m\u001b[1;33m.\u001b[0m\u001b[0m_conv_forward\u001b[0m\u001b[1;33m(\u001b[0m\u001b[0minput\u001b[0m\u001b[1;33m,\u001b[0m \u001b[0mself\u001b[0m\u001b[1;33m.\u001b[0m\u001b[0mweight\u001b[0m\u001b[1;33m,\u001b[0m \u001b[0mself\u001b[0m\u001b[1;33m.\u001b[0m\u001b[0mbias\u001b[0m\u001b[1;33m)\u001b[0m\u001b[1;33m\u001b[0m\u001b[1;33m\u001b[0m\u001b[0m\n\u001b[0m\u001b[0;32m    444\u001b[0m \u001b[1;33m\u001b[0m\u001b[0m\n\u001b[0;32m    445\u001b[0m \u001b[1;32mclass\u001b[0m \u001b[0mConv3d\u001b[0m\u001b[1;33m(\u001b[0m\u001b[0m_ConvNd\u001b[0m\u001b[1;33m)\u001b[0m\u001b[1;33m:\u001b[0m\u001b[1;33m\u001b[0m\u001b[1;33m\u001b[0m\u001b[0m\n",
      "\u001b[1;32m~\\.conda\\envs\\pytorch_venv\\lib\\site-packages\\torch\\nn\\modules\\conv.py\u001b[0m in \u001b[0;36m_conv_forward\u001b[1;34m(self, input, weight, bias)\u001b[0m\n\u001b[0;32m    437\u001b[0m                             \u001b[0mweight\u001b[0m\u001b[1;33m,\u001b[0m \u001b[0mbias\u001b[0m\u001b[1;33m,\u001b[0m \u001b[0mself\u001b[0m\u001b[1;33m.\u001b[0m\u001b[0mstride\u001b[0m\u001b[1;33m,\u001b[0m\u001b[1;33m\u001b[0m\u001b[1;33m\u001b[0m\u001b[0m\n\u001b[0;32m    438\u001b[0m                             _pair(0), self.dilation, self.groups)\n\u001b[1;32m--> 439\u001b[1;33m         return F.conv2d(input, weight, bias, self.stride,\n\u001b[0m\u001b[0;32m    440\u001b[0m                         self.padding, self.dilation, self.groups)\n\u001b[0;32m    441\u001b[0m \u001b[1;33m\u001b[0m\u001b[0m\n",
      "\u001b[1;31mRuntimeError\u001b[0m: Given groups=1, weight of size [64, 18, 3, 3], expected input[16, 2, 64, 64] to have 18 channels, but got 2 channels instead"
     ]
    }
   ],
   "source": [
    "s = s_net(x2)"
   ]
  },
  {
   "cell_type": "code",
   "execution_count": 50,
   "id": "f8ce8a7a-c0a7-4abe-b5f0-30368c454a3f",
   "metadata": {},
   "outputs": [],
   "source": [
    "x=torch.rand(1,4)"
   ]
  },
  {
   "cell_type": "code",
   "execution_count": 51,
   "id": "b4a745db-31d4-4d86-a916-233fa940da83",
   "metadata": {},
   "outputs": [
    {
     "data": {
      "text/plain": [
       "tensor([[0.5869, 0.8250, 0.6813, 0.1976]])"
      ]
     },
     "execution_count": 51,
     "metadata": {},
     "output_type": "execute_result"
    }
   ],
   "source": [
    "x"
   ]
  },
  {
   "cell_type": "code",
   "execution_count": 53,
   "id": "30d81f75-8b20-4df4-b9e3-0b0e888e8391",
   "metadata": {},
   "outputs": [],
   "source": [
    "x1,x2 = torch.split(x,[0,1], dim=0)"
   ]
  },
  {
   "cell_type": "code",
   "execution_count": 54,
   "id": "1060c041-6b58-4f5c-848c-611cc7e562d5",
   "metadata": {},
   "outputs": [
    {
     "data": {
      "text/plain": [
       "tensor([], size=(0, 4))"
      ]
     },
     "execution_count": 54,
     "metadata": {},
     "output_type": "execute_result"
    }
   ],
   "source": [
    "x1"
   ]
  },
  {
   "cell_type": "code",
   "execution_count": 55,
   "id": "2625becf-a48b-40bf-862f-37114638b9ee",
   "metadata": {},
   "outputs": [
    {
     "data": {
      "text/plain": [
       "tensor([[0.5869, 0.8250, 0.6813, 0.1976]])"
      ]
     },
     "execution_count": 55,
     "metadata": {},
     "output_type": "execute_result"
    }
   ],
   "source": [
    "x2"
   ]
  },
  {
   "cell_type": "code",
   "execution_count": 56,
   "id": "1b33a92c-a122-443f-9241-6192c49706ec",
   "metadata": {},
   "outputs": [
    {
     "data": {
      "text/plain": [
       "tensor([[0.5410, 0.4163, 0.0791, 0.5004],\n",
       "        [0.8403, 0.6147, 0.1964, 0.8843]])"
      ]
     },
     "execution_count": 56,
     "metadata": {},
     "output_type": "execute_result"
    }
   ],
   "source": [
    "c1 = torch.rand(2,4)\n",
    "c1"
   ]
  },
  {
   "cell_type": "code",
   "execution_count": 59,
   "id": "53b0c460-2d50-4ce0-a07b-03980c46dd19",
   "metadata": {},
   "outputs": [
    {
     "data": {
      "text/plain": [
       "tensor([[0.5410, 0.4163, 0.0791, 0.5004],\n",
       "        [0.8403, 0.6147, 0.1964, 0.8843]])"
      ]
     },
     "execution_count": 59,
     "metadata": {},
     "output_type": "execute_result"
    }
   ],
   "source": [
    "x1_c = torch.cat([x1,c1],0)\n",
    "x1_c"
   ]
  },
  {
   "cell_type": "code",
   "execution_count": null,
   "id": "bd82901c-af2d-48a3-8fe0-75b536cec0ba",
   "metadata": {},
   "outputs": [],
   "source": []
  }
 ],
 "metadata": {
  "kernelspec": {
   "display_name": "Python 3 (ipykernel)",
   "language": "python",
   "name": "python3"
  },
  "language_info": {
   "codemirror_mode": {
    "name": "ipython",
    "version": 3
   },
   "file_extension": ".py",
   "mimetype": "text/x-python",
   "name": "python",
   "nbconvert_exporter": "python",
   "pygments_lexer": "ipython3",
   "version": "3.8.12"
  }
 },
 "nbformat": 4,
 "nbformat_minor": 5
}
